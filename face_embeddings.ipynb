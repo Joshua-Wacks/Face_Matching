{
 "cells": [
  {
   "cell_type": "code",
   "execution_count": 16,
   "metadata": {},
   "outputs": [],
   "source": [
    "import os\n",
    "from PIL import Image\n",
    "import numpy as np\n",
    "from matplotlib import pyplot\n",
    "from keras_facenet import FaceNet\n",
    "from tensorflow import keras"
   ]
  },
  {
   "cell_type": "code",
   "execution_count": 24,
   "metadata": {},
   "outputs": [],
   "source": [
    "# example of loading the keras facenet model\n",
    "# load the model\n",
    "embedder = FaceNet().model\n"
   ]
  },
  {
   "cell_type": "code",
   "execution_count": 27,
   "metadata": {},
   "outputs": [],
   "source": [
    "# get the face embedding for one face\n",
    "def get_embedding(embedder, face_pixels):\n",
    " # scale pixel values\n",
    " face_pixels = face_pixels.astype('float32')\n",
    " # standardize pixel values across channels (global)\n",
    " mean, std = face_pixels.mean(), face_pixels.std()\n",
    " face_pixels = (face_pixels - mean) / std\n",
    " # transform face into one sample\n",
    " samples = np.expand_dims(face_pixels, axis=0)\n",
    " # make prediction to get embedding\n",
    " yhat = embedder.predict(samples)\n",
    " return yhat[0]"
   ]
  },
  {
   "cell_type": "code",
   "execution_count": null,
   "metadata": {},
   "outputs": [],
   "source": [
    "\n",
    "# load the face dataset\n",
    "data = np.load('5_celebraties.npz')\n",
    "trainX, trainy, testX, testy = data['arr_0'], data['arr_1'], data['arr_2'], data['arr_3']\n",
    "print('Loaded: ', trainX.shape, trainy.shape, testX.shape, testy.shape)"
   ]
  },
  {
   "cell_type": "code",
   "execution_count": null,
   "metadata": {},
   "outputs": [],
   "source": [
    "newTrainX = list()\n",
    "for face_pixels in trainX:\n",
    "    embedding = get_embedding(embedder, face_pixels)\n",
    "    newTrainX.append(embedding)\n",
    "newTrainX = np.asarray(newTrainX)\n",
    "print(newTrainX.shape)\n",
    "\n",
    "\n",
    "\n",
    "newTestX = list()\n",
    "for face_pixels in testX:\n",
    "    embedding = get_embedding(embedder, face_pixels)\n",
    "    newTestX.append(embedding)\n",
    "newTestX = np.asarray(newTestX)\n",
    "print(newTestX.shape)\n",
    "# save arrays to one file in compressed format\n",
    "np.savez_compressed('5_celebraties-embeddings.npz', newTrainX, trainy, newTestX, testy)"
   ]
  }
 ],
 "metadata": {
  "kernelspec": {
   "display_name": "Python 3",
   "language": "python",
   "name": "python3"
  },
  "language_info": {
   "codemirror_mode": {
    "name": "ipython",
    "version": 3
   },
   "file_extension": ".py",
   "mimetype": "text/x-python",
   "name": "python",
   "nbconvert_exporter": "python",
   "pygments_lexer": "ipython3",
   "version": "3.10.6"
  },
  "orig_nbformat": 4
 },
 "nbformat": 4,
 "nbformat_minor": 2
}
